{
 "cells": [
  {
   "cell_type": "code",
   "id": "initial_id",
   "metadata": {
    "collapsed": true,
    "ExecuteTime": {
     "end_time": "2025-08-27T04:11:52.289198Z",
     "start_time": "2025-08-27T04:11:52.286125Z"
    }
   },
   "source": [
    "from typing import TypedDict, Literal\n",
    "\n",
    "\n",
    "class PortfolioState(TypedDict):\n",
    "    amount_usd: float\n",
    "    total_aud: float"
   ],
   "outputs": [],
   "execution_count": 20
  },
  {
   "metadata": {
    "ExecuteTime": {
     "end_time": "2025-08-27T04:11:52.302568Z",
     "start_time": "2025-08-27T04:11:52.298928Z"
    }
   },
   "cell_type": "code",
   "source": [
    "\n",
    "def convert_to_aud(state: PortfolioState) -> PortfolioState:\n",
    "    state['total_aud'] = state['amount_usd'] * 1.58\n",
    "    return state"
   ],
   "id": "468399b10c9ec70a",
   "outputs": [],
   "execution_count": 21
  },
  {
   "metadata": {
    "ExecuteTime": {
     "end_time": "2025-08-27T04:11:52.330951Z",
     "start_time": "2025-08-27T04:11:52.326388Z"
    }
   },
   "cell_type": "code",
   "source": [
    "from langgraph.graph import StateGraph, START, END\n",
    "\n",
    "builder = StateGraph(PortfolioState)\n",
    "\n",
    "builder.add_node(\"convert_to_aud_node\", convert_to_aud)\n",
    "\n",
    "builder.add_edge(START,\"convert_to_aud_node\")\n",
    "builder.add_edge(\"convert_to_aud_node\", END)\n",
    "\n",
    "graph = builder.compile()"
   ],
   "id": "94961e2b18452e44",
   "outputs": [],
   "execution_count": 22
  },
  {
   "metadata": {
    "ExecuteTime": {
     "end_time": "2025-08-27T04:11:53.765323Z",
     "start_time": "2025-08-27T04:11:52.346347Z"
    }
   },
   "cell_type": "code",
   "source": [
    "from IPython.display import Image, display\n",
    "\n",
    "display(Image(graph.get_graph().draw_mermaid_png()))"
   ],
   "id": "f06cbd41a155a159",
   "outputs": [
    {
     "data": {
      "image/png": "[encoded data removed]",
      "text/plain": [
       "<IPython.core.display.Image object>"
      ]
     },
     "metadata": {},
     "output_type": "display_data"
    }
   ],
   "execution_count": 23
  },
  {
   "metadata": {
    "ExecuteTime": {
     "end_time": "2025-08-27T04:11:53.813156Z",
     "start_time": "2025-08-27T04:11:53.807554Z"
    }
   },
   "cell_type": "code",
   "source": "graph.invoke({\"amount_usd\": 1000})",
   "id": "f6d63e6e5d4d4a27",
   "outputs": [
    {
     "data": {
      "text/plain": [
       "{'amount_usd': 1000, 'total_aud': 1580.0}"
      ]
     },
     "execution_count": 24,
     "metadata": {},
     "output_type": "execute_result"
    }
   ],
   "execution_count": 24
  }
 ],
 "metadata": {
  "kernelspec": {
   "display_name": "Python 3",
   "language": "python",
   "name": "python3"
  },
  "language_info": {
   "codemirror_mode": {
    "name": "ipython",
    "version": 2
   },
   "file_extension": ".py",
   "mimetype": "text/x-python",
   "name": "python",
   "nbconvert_exporter": "python",
   "pygments_lexer": "ipython2",
   "version": "2.7.6"
  }
 },
 "nbformat": 4,
 "nbformat_minor": 5
}
